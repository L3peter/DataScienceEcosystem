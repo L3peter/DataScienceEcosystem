# Exercise 2: Create a markdown cell with the title of the notebook
"""
# Data Science Tools and Ecosystem
"""

# Exercise 3: Create a markdown cell for an introduction
"""
In this notebook, Data Science Tools and Ecosystem are summarized.
"""

# Exercise 4: Create a markdown cell to list data science languages
"""
Some of the popular languages that Data Scientists use are:

1. Python
2. R
3. Julia
"""

# Exercise 5: Create a markdown cell to list data science libraries
"""
Some of the commonly used libraries used by Data Scientists include:

1. NumPy
2. Pandas
3. Matplotlib
"""

# Exercise 6: Create a markdown cell with a table of Data Science tools
"""
| Data Science Tools |
|--------------------|
| Tool 1             |
| Tool 2             |
| Tool 3             |
"""

# Exercise 7: Create a markdown cell introducing arithmetic expression examples
"""
### Below are a few examples of evaluating arithmetic expressions in Python.
"""

# Exercise 8: Create a code cell to multiply and add numbers
"""
# This is a simple arithmetic expression to multiply then add integers.
result = (3 * 4) + 5
result
"""

# Exercise 9: Create a code cell to convert minutes to hours
"""
# This will convert 200 minutes to hours by dividing by 60.
hours = 200 / 60
hours
"""

# Exercise 10: Insert a markdown cell to list Objectives
"""
**Objectives:**
- List popular languages for Data Science
- Highlight commonly used libraries
- Introduce key Data Science tools
"""

# Exercise 11: Create a markdown cell to indicate the Author's name
"""
## Author
Simate Simasiku
"""
